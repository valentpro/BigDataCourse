{
  "nbformat": 4,
  "nbformat_minor": 0,
  "metadata": {
    "colab": {
      "provenance": []
    },
    "kernelspec": {
      "name": "python3",
      "display_name": "Python 3"
    },
    "language_info": {
      "name": "python"
    }
  },
  "cells": [
    {
      "cell_type": "markdown",
      "source": [
        "Adapted from the work of:\n",
        "\n",
        "*   Steve Phelps: https://github.com/phelps-sg/python-bigdata\n",
        "*   rpi.analyticsdojo.com https://colab.research.google.com/github/RPI-DATA/course-intro-ml-app/blob/master/content/notebooks/18-big-data/01-intro-mapreduce.ipynb?pli=1#scrollTo=CW_a5y0NcPIW\n",
        "\n",
        "\n"
      ],
      "metadata": {
        "id": "gJ54tJS7O3Cg"
      }
    },
    {
      "cell_type": "markdown",
      "source": [
        "# Overview\n",
        "\n",
        "1. The Map-Reduce programming model\n",
        "2. Recap of functional programming in Python\n",
        "3. Python's `map` and `reduce` functions\n",
        "4. Writing parallel code using `map`\n",
        "\n",
        "# Background\n",
        "- map and reduce primitives present in Lisp and many other functional languages. They were introduced in the 1960s.\n",
        "\n",
        "- The Map-Reduce programming paradigm was popularised by Dean and Ghemawat 2008 in their paper \"MapReduce: simplified data processing on large clusters\"\n",
        "\n",
        "- The first popular open-source implementation was Apache Hadoop, first released in 2011.\n",
        "\n"
      ],
      "metadata": {
        "id": "KNqMI0TzOW0G"
      }
    },
    {
      "cell_type": "markdown",
      "source": [
        "# Implementing reduce\n",
        "## Linear reduce\n",
        "\n",
        "- The `reduce` function in functional programming is also termed `fold`. Data can be folded *left* or *right*.\n",
        "\n",
        "- The following implements a *left* fold."
      ],
      "metadata": {
        "id": "wxBMe8cuSC0I"
      }
    },
    {
      "cell_type": "code",
      "source": [
        "def foldl(f, data):\n",
        "    # Case 1: empty list → error, because there is nothing to fold\n",
        "    if len(data) == 0:\n",
        "        raise TypeError(\"foldl() of empty sequence with no initial value\")\n",
        "\n",
        "    # Case 2: only one element left → return it as the final result\n",
        "    elif len(data) == 1:\n",
        "        return data[0]\n",
        "\n",
        "    # Case 3: at least two elements → apply folding\n",
        "    else:\n",
        "        # Split list into head (first element) and tail (rest of the list)\n",
        "        head = data[0]\n",
        "        tail = data[1:]\n",
        "\n",
        "        # Debug: show what we are currently folding\n",
        "        print(\"Folding\", head, \"with\", tail)\n",
        "\n",
        "        # Apply the function f to the first two elements (head and first of tail)\n",
        "        partial_result = f(head, tail[0])\n",
        "\n",
        "        # Debug: show result of this step\n",
        "        print(\"Partial result is\", partial_result)\n",
        "\n",
        "        # Recursive call:\n",
        "        # Create a new list with the partial result + the remaining tail\n",
        "        # Continue folding until only one element remains\n",
        "        return foldl(f, [partial_result] + tail[1:])"
      ],
      "metadata": {
        "id": "XXF18MVtOY7h"
      },
      "execution_count": null,
      "outputs": []
    },
    {
      "cell_type": "markdown",
      "source": [
        "\n",
        "\n",
        "### Testing `fold` function: + operator\n",
        "\n",
        "let's have a look at the behavior of the fold function.\n",
        "\n",
        "- We execute a fold opertaion with a + operation:"
      ],
      "metadata": {
        "id": "KvovSeWRTVQw"
      }
    },
    {
      "cell_type": "code",
      "source": [
        "foldl(lambda x, y: x + y, [1, 2, 3, 4, 5])"
      ],
      "metadata": {
        "colab": {
          "base_uri": "https://localhost:8080/"
        },
        "id": "XiIV_O7lTVuC",
        "outputId": "4e76420d-49fb-4c3e-834c-55f51af51953"
      },
      "execution_count": null,
      "outputs": [
        {
          "output_type": "stream",
          "name": "stdout",
          "text": [
            "Folding 1 with [2, 3, 4, 5]\n",
            "Partial result is 3\n",
            "Folding 3 with [3, 4, 5]\n",
            "Partial result is 6\n",
            "Folding 6 with [4, 5]\n",
            "Partial result is 10\n",
            "Folding 10 with [5]\n",
            "Partial result is 15\n"
          ]
        },
        {
          "output_type": "execute_result",
          "data": {
            "text/plain": [
              "15"
            ]
          },
          "metadata": {},
          "execution_count": 4
        }
      ]
    },
    {
      "cell_type": "markdown",
      "source": [
        "\n",
        "### Testing `fold` function: - operator (Subtraction)\n",
        "\n",
        "let's have a look at the behavior of the fold function.\n",
        "\n",
        "- We execute a fold opertaion with a + operation:"
      ],
      "metadata": {
        "id": "WUh_D0WAUlUw"
      }
    },
    {
      "cell_type": "code",
      "source": [
        "foldl(lambda x, y: x - y, [1, 2, 3, 4, 5])"
      ],
      "metadata": {
        "colab": {
          "base_uri": "https://localhost:8080/"
        },
        "id": "5_z1uV0DTxLK",
        "outputId": "5dbf1aa1-10ec-4dbd-95a8-021c3ab0d77e"
      },
      "execution_count": null,
      "outputs": [
        {
          "output_type": "stream",
          "name": "stdout",
          "text": [
            "Folding 1 with [2, 3, 4, 5]\n",
            "Partial result is -1\n",
            "Folding -1 with [3, 4, 5]\n",
            "Partial result is -4\n",
            "Folding -4 with [4, 5]\n",
            "Partial result is -8\n",
            "Folding -8 with [5]\n",
            "Partial result is -13\n"
          ]
        },
        {
          "output_type": "execute_result",
          "data": {
            "text/plain": [
              "-13"
            ]
          },
          "metadata": {},
          "execution_count": 5
        }
      ]
    },
    {
      "cell_type": "markdown",
      "source": [
        "▶  **Exercise**: what happens, if instead a *`left`* fold, a *`right`* fold is executed?\n",
        "\n",
        "*   write the `foldr` function\n",
        "\n",
        "\n",
        "\n"
      ],
      "metadata": {
        "id": "MUOhEIv5Uxgo"
      }
    },
    {
      "cell_type": "code",
      "source": [
        "def foldr(f, data):\n",
        "    if len(data) == 0:\n",
        "        raise TypeError(\"foldr() of empty sequence with no initial value\")\n",
        "    elif len(data) == 1:\n",
        "        return data[0]\n",
        "    else:\n",
        "        head = data[-1]\n",
        "        tail = data[:-1]\n",
        "        print(\"Folding\", head, \"with\", tail)\n",
        "        folded_tail = foldr(f, tail)\n",
        "        print(\"Partial result is\", f(head, folded_tail))\n",
        "        return f(head, folded_tail)\n"
      ],
      "metadata": {
        "id": "8pO6uT6BVZ9o"
      },
      "execution_count": null,
      "outputs": []
    },
    {
      "cell_type": "code",
      "source": [
        "foldr(lambda x, y: x - y, [1, 2, 3, 4, 5])"
      ],
      "metadata": {
        "colab": {
          "base_uri": "https://localhost:8080/"
        },
        "id": "5Gug4Sz0VI1I",
        "outputId": "a7d1d3fa-4eea-4d37-def8-552cf7037394"
      },
      "execution_count": null,
      "outputs": [
        {
          "output_type": "stream",
          "name": "stdout",
          "text": [
            "Folding 5 with [1, 2, 3, 4]\n",
            "Folding 4 with [1, 2, 3]\n",
            "Folding 3 with [1, 2]\n",
            "Folding 2 with [1]\n",
            "Partial result is 1\n",
            "Partial result is 2\n",
            "Partial result is 2\n",
            "Partial result is 3\n"
          ]
        },
        {
          "output_type": "execute_result",
          "data": {
            "text/plain": [
              "3"
            ]
          },
          "metadata": {},
          "execution_count": 20
        }
      ]
    },
    {
      "cell_type": "markdown",
      "source": [
        "## parallel reduce\n",
        "\n",
        "- The following implements a *parallel* reduce.\n",
        "- This structure is closer to real MapReduce, where reducers handle partitions in parallel and then merge result"
      ],
      "metadata": {
        "id": "szJMDCtcEREF"
      }
    },
    {
      "cell_type": "code",
      "source": [
        "def fold_tree(f, data):\n",
        "    # Empty → error\n",
        "    if len(data) == 0:\n",
        "        raise TypeError(\"fold_tree() of empty sequence with no initial value\")\n",
        "\n",
        "    # Single element → return it\n",
        "    if len(data) == 1:\n",
        "        return data[0]\n",
        "\n",
        "    # Pair up elements like a tree\n",
        "    new_data = []\n",
        "    for i in range(0, len(data), 2):\n",
        "        if i + 1 < len(data):\n",
        "            # Combine pair (data[i], data[i+1])\n",
        "            new_data.append(f(data[i], data[i+1]))\n",
        "            print(f\"Folding {data[i]} with {data[i+1]} → {data[i], data[i+1]}\")\n",
        "        else:\n",
        "            # Odd element, carry forward\n",
        "            new_data.append(data[i])\n",
        "\n",
        "    # Recurse until one element remains\n",
        "    return fold_tree(f, new_data)"
      ],
      "metadata": {
        "id": "Wn88UqNYEQAf"
      },
      "execution_count": null,
      "outputs": []
    },
    {
      "cell_type": "code",
      "source": [
        "fold_tree(lambda x, y: x + y, [1, 2, 3, 4, 5, 6])"
      ],
      "metadata": {
        "colab": {
          "base_uri": "https://localhost:8080/"
        },
        "id": "rjG6NYPyEnJG",
        "outputId": "2ad10567-143e-4ec6-bb67-11b201bb0a1f"
      },
      "execution_count": null,
      "outputs": [
        {
          "output_type": "stream",
          "name": "stdout",
          "text": [
            "Folding 1 with 2 → (1, 2)\n",
            "Folding 3 with 4 → (3, 4)\n",
            "Folding 5 with 6 → (5, 6)\n",
            "Folding 3 with 7 → (3, 7)\n",
            "Folding 10 with 11 → (10, 11)\n"
          ]
        },
        {
          "output_type": "execute_result",
          "data": {
            "text/plain": [
              "21"
            ]
          },
          "metadata": {},
          "execution_count": 50
        }
      ]
    },
    {
      "cell_type": "code",
      "source": [],
      "metadata": {
        "id": "51sJlkM3Eqt-"
      },
      "execution_count": null,
      "outputs": []
    },
    {
      "cell_type": "markdown",
      "source": [
        "## Executing Map-Reduce\n",
        "\n",
        "- let's execute map-reduce with a colorlist example using the fold-function\n"
      ],
      "metadata": {
        "id": "cyWpG8U0WmlK"
      }
    },
    {
      "cell_type": "code",
      "source": [
        "colorlist = ['Red', 'Blue', 'Green', 'Green', 'Green', 'Green', 'Green', 'Green',\n",
        " 'Yellow', 'Black', 'White', 'Brown', 'Orange', 'Purple', 'Pink', 'Gray',\n",
        " 'Cyan', 'Magenta', 'Silver', 'Gold', 'Indigo', 'Violet', 'Teal', 'Blue',\n",
        " 'Blue', 'Blue', 'Blue', 'Blue', 'Blue', 'Blue', 'Maroon', 'Navy', 'Blue',\n",
        " 'Aqua', 'Beige', 'Coral', 'Coral', 'Coral', 'Coral', 'Coral', 'Mint',\n",
        " 'Olive', 'Lime', 'Turquoise', 'Burgundy', 'Crimson', 'Amber', 'Amber',\n",
        " 'Amber']\n",
        "colorlist = ['Red', 'Blue', 'Green', 'Green', 'Green', 'Red']"
      ],
      "metadata": {
        "id": "itPl5kIiObeB"
      },
      "execution_count": null,
      "outputs": []
    },
    {
      "cell_type": "code",
      "execution_count": null,
      "metadata": {
        "id": "IWqi4UFZOWed"
      },
      "outputs": [],
      "source": [
        "from functools import reduce"
      ]
    },
    {
      "cell_type": "markdown",
      "source": [
        "### MAP-PHASE\n",
        "\n",
        "*   Each input (e.g., a word) is converted into a (key, value)\n",
        "pair."
      ],
      "metadata": {
        "id": "OBB-k-BhXH-v"
      }
    },
    {
      "cell_type": "code",
      "source": [
        "# -----------------------------\n",
        "# Map step\n",
        "# -----------------------------\n",
        "def map_step(data):\n",
        "    return list(map(lambda word: (word, 1), data))"
      ],
      "metadata": {
        "id": "YtmEd99OLTA1"
      },
      "execution_count": null,
      "outputs": []
    },
    {
      "cell_type": "code",
      "source": [
        "reduce()"
      ],
      "metadata": {
        "id": "TRNjWlO_U8PE"
      },
      "execution_count": null,
      "outputs": []
    },
    {
      "cell_type": "code",
      "source": [
        "mapped = map_step(colorlist)\n",
        "print(\"MAP →\", mapped)"
      ],
      "metadata": {
        "colab": {
          "base_uri": "https://localhost:8080/"
        },
        "id": "DRwZFa_bOfeO",
        "outputId": "9b085e04-4a6c-428a-da0d-bba6f902335a"
      },
      "execution_count": null,
      "outputs": [
        {
          "output_type": "stream",
          "name": "stdout",
          "text": [
            "MAP → [('Red', 1), ('Blue', 1), ('Green', 1), ('Green', 1), ('Green', 1), ('Green', 1), ('Green', 1), ('Green', 1), ('Yellow', 1), ('Black', 1), ('White', 1), ('Brown', 1), ('Orange', 1), ('Purple', 1), ('Pink', 1), ('Gray', 1)]\n"
          ]
        }
      ]
    },
    {
      "cell_type": "markdown",
      "source": [
        "### GROUP (SHUFFLE)-PHASE\n",
        "- All values are grouped by key"
      ],
      "metadata": {
        "id": "rsog94SmXS-9"
      }
    },
    {
      "cell_type": "code",
      "source": [
        "def groupByKey(data):\n",
        "    result = {}\n",
        "    for key, value in data:\n",
        "        if key in result:\n",
        "            result[key].append(value)\n",
        "        else:\n",
        "            result[key] = [value]\n",
        "    return result\n",
        "\n",
        "grouped = groupByKey(mapped)\n",
        "print(\"GROUP →\", grouped)\n"
      ],
      "metadata": {
        "colab": {
          "base_uri": "https://localhost:8080/"
        },
        "id": "i1xMboFOOmmR",
        "outputId": "2741b557-6c9f-43ba-b6ff-94636ccaa29e"
      },
      "execution_count": null,
      "outputs": [
        {
          "output_type": "stream",
          "name": "stdout",
          "text": [
            "GROUP → {'Red': [1], 'Blue': [1], 'Green': [1, 1, 1]}\n"
          ]
        }
      ]
    },
    {
      "cell_type": "markdown",
      "source": [
        "### REDUCE-PHASE\n",
        "- Reduce values per key with a function f"
      ],
      "metadata": {
        "id": "hJEI9gBYXhHU"
      }
    },
    {
      "cell_type": "code",
      "source": [
        "def reduceByKey(f, data):\n",
        "    key_values = groupByKey(data)\n",
        "    return list(map(lambda key: (key, foldl(f, key_values[key])), key_values))\n",
        "\n",
        "reduced = reduceByKey(lambda x, y: x + y, mapped)\n",
        "print(\"REDUCE →\", reduced)"
      ],
      "metadata": {
        "colab": {
          "base_uri": "https://localhost:8080/"
        },
        "id": "fe3fgRHyOorH",
        "outputId": "f227dcc3-26f0-48bb-9257-cf5e4d828ac4"
      },
      "execution_count": null,
      "outputs": [
        {
          "output_type": "stream",
          "name": "stdout",
          "text": [
            "Folding 1 with [1, 1, 1, 1, 1]\n",
            "Partial result is 2\n",
            "Folding 2 with [1, 1, 1, 1]\n",
            "Partial result is 3\n",
            "Folding 3 with [1, 1, 1]\n",
            "Partial result is 4\n",
            "Folding 4 with [1, 1]\n",
            "Partial result is 5\n",
            "Folding 5 with [1]\n",
            "Partial result is 6\n",
            "REDUCE → [('Red', 1), ('Blue', 1), ('Green', 6), ('Yellow', 1), ('Black', 1), ('White', 1), ('Brown', 1), ('Orange', 1), ('Purple', 1), ('Pink', 1), ('Gray', 1)]\n"
          ]
        }
      ]
    },
    {
      "cell_type": "markdown",
      "source": [
        "...now with tree-like `fold`"
      ],
      "metadata": {
        "id": "g96f-x3kQcx3"
      }
    },
    {
      "cell_type": "code",
      "source": [
        "def reduceByKey(f, data):\n",
        "    key_values = groupByKey(data)\n",
        "    return list(map(lambda key: (key, fold_tree(f, key_values[key])), key_values))\n",
        "\n",
        "reduced = reduceByKey(lambda x, y: x + y, mapped)\n",
        "print(\"REDUCE →\", reduced)"
      ],
      "metadata": {
        "colab": {
          "base_uri": "https://localhost:8080/"
        },
        "id": "GmUi4SirQRqj",
        "outputId": "7ca047ea-4c72-4d7a-b92c-8520ce17837b"
      },
      "execution_count": null,
      "outputs": [
        {
          "output_type": "stream",
          "name": "stdout",
          "text": [
            "Folding 1 with 1 → 2\n",
            "Folding 1 with 1 → 2\n",
            "Folding 1 with 1 → 2\n",
            "Folding 2 with 2 → 4\n",
            "Folding 4 with 2 → 6\n",
            "REDUCE → [('Red', 1), ('Blue', 1), ('Green', 6), ('Yellow', 1), ('Black', 1), ('White', 1), ('Brown', 1), ('Orange', 1), ('Purple', 1), ('Pink', 1), ('Gray', 1)]\n"
          ]
        }
      ]
    },
    {
      "cell_type": "markdown",
      "source": [
        "## Parallel Map Reduce\n",
        "\n",
        "- Map Reduce in DFS was introduced for scalable parallel processing, i.e on big data with very large compute clusters.\n",
        "- The most poular implementation is: e.g. Apache Hadoop (and Apache Spark).\n",
        "\n",
        "\n",
        "- Hadoop MapReduce implementation will take care of the low-level functionality:\n",
        "    - Task Scheduling & Load Balancing\n",
        "    - Fault Tolerance & Recovery\n",
        "    - Network & Disk I/O Management\n",
        "    - Data Transfer Optimization and disk transfer optimisation\n",
        "    - Cluster Resource Management\n",
        "    - Transparency for Developers\n",
        "    - etc..\n",
        "- The model is designed to move the processing to where the data resides.\n",
        "\n",
        "- All complexity of distributed execution, retries, I/O, and networking is abstracted away.\n",
        "\n",
        "### Developers only implement map() and reduce() functions.\n",
        "\n",
        "$\\operatorname{map}(k, v) \\rightarrow \\; \\left< k', v' \\right>*$  \n",
        "\n",
        "- and a reduce function:\n",
        "\n",
        "$\\operatorname{reduce}(k', \\left< k', v'\\right> *) \\rightarrow \\; \\left< k', v''\n",
        "\\right> *$\n",
        "\n",
        "- The $*$ refers to a *collection* of values.\n",
        "\n",
        "- These collections are *not* ordered.\n",
        "\n",
        "### Parallelizing Map Reduce\n",
        "\n",
        "we will use multithreading, which will allow us to perform map-reduce computations that exploit parallel processing using *multiple* cores on a *single* computer.\n",
        "\n",
        "- This approach (parallel reduce): splits the input into chunks that will be distributed to workers to be processes in parallel"
      ],
      "metadata": {
        "id": "zbqsT7RijbgI"
      }
    },
    {
      "cell_type": "markdown",
      "source": [
        "```\n",
        "INPUT DATA (16 Elemente)\n",
        "        │\n",
        "        ▼\n",
        "+-------------------------------+\n",
        "|  Split into 4 partitions      |\n",
        "+-------------------------------+\n",
        "   │         │        │       │\n",
        "   ▼         ▼        ▼       ▼\n",
        " P0         P1       P2      P3\n",
        "(MAP+RED) (MAP+RED) (MAP+RED)(MAP+RED)\n",
        "   │         │        │       │\n",
        "   └─────────┴────────┴───────┘\n",
        "              │\n",
        "              ▼\n",
        "     Shuffle + Merge\n",
        "              │\n",
        "              ▼\n",
        "       Final Global Reduce\n",
        "              │\n",
        "              ▼\n",
        "    RESULT: [('Red',1),('Blue',1),('Green',6), ...]\n",
        "\n",
        "\n",
        "(KI-generated flow-chart)\n",
        "```\n",
        "\n"
      ],
      "metadata": {
        "id": "qmve8YrUMu98"
      }
    },
    {
      "cell_type": "code",
      "source": [
        "from threading import Thread\n",
        "from functools import reduce\n",
        "\n",
        "colorlist = [\n",
        "    'Red', 'Blue', 'Green', 'Green', 'Green', 'Green', 'Green', 'Green',\n",
        "    'Yellow', 'Black', 'White', 'Brown', 'Orange', 'Purple', 'Pink', 'Gray'\n",
        "]\n"
      ],
      "metadata": {
        "id": "3Hhvq3WSKg2Y"
      },
      "execution_count": null,
      "outputs": []
    },
    {
      "cell_type": "markdown",
      "source": [
        "1. Step: we split the input data into chunks"
      ],
      "metadata": {
        "id": "5SbGP1cvJgSU"
      }
    },
    {
      "cell_type": "code",
      "source": [
        "def split_data(data, num_splits):\n",
        "    n = len(data)\n",
        "    k, m = divmod(n, num_splits)  # k = base size, m = remainder\n",
        "    partitions = []\n",
        "    start = 0\n",
        "    for i in range(num_splits):\n",
        "        end = start + k + (1 if i < m else 0)  # distribute remainder evenly\n",
        "        partitions.append(data[start:end])\n",
        "        start = end\n",
        "    return partitions\n"
      ],
      "metadata": {
        "id": "pgdq4s5uJfjU"
      },
      "execution_count": null,
      "outputs": []
    },
    {
      "cell_type": "code",
      "source": [
        "partitions = split_data(colorlist, 3)\n",
        "print(\"PARTITIONS →\", partitions)"
      ],
      "metadata": {
        "colab": {
          "base_uri": "https://localhost:8080/"
        },
        "id": "tj3HnTi0J2vW",
        "outputId": "de7c2bf2-c621-49b5-fd4d-b10ff673b104"
      },
      "execution_count": null,
      "outputs": [
        {
          "output_type": "stream",
          "name": "stdout",
          "text": [
            "PARTITIONS → [['Red', 'Blue', 'Green', 'Green', 'Green', 'Green'], ['Green', 'Green', 'Yellow', 'Black', 'White'], ['Brown', 'Orange', 'Purple', 'Pink', 'Gray']]\n"
          ]
        }
      ]
    },
    {
      "cell_type": "code",
      "source": [
        "# -----------------------------\n",
        "# Parallel reduce across partitions\n",
        "# -----------------------------\n",
        "def parallel_reduce(f, partitions):\n",
        "    n = len(partitions)\n",
        "    results = [None] * n\n",
        "    threads = [None] * n\n",
        "\n",
        "    def job(i):\n",
        "        mapped = map_step(partitions[i])              # map local\n",
        "        reduced = reduceByKey(f, mapped)        # reduce local\n",
        "        results[i] = reduced\n",
        "\n",
        "    # Run each partition in a thread\n",
        "    for i in range(n):\n",
        "        threads[i] = Thread(target=lambda: job(i))\n",
        "        threads[i].start()\n",
        "\n",
        "    for i in range(n):\n",
        "        threads[i].join()\n",
        "\n",
        "    # Merge results from all partitions\n",
        "    merged = []\n",
        "    for r in results:\n",
        "        merged.extend(r)\n",
        "\n",
        "    # Final group + reduce\n",
        "    final = reduceByKey(f, merged)\n",
        "    return final"
      ],
      "metadata": {
        "id": "EUq-H7BBjcOP"
      },
      "execution_count": null,
      "outputs": []
    },
    {
      "cell_type": "code",
      "source": [
        "result = parallel_reduce(lambda x, y: x + y, partitions)\n",
        "print(\"FINAL RESULT →\", result)"
      ],
      "metadata": {
        "id": "58Rv-q87joqf",
        "colab": {
          "base_uri": "https://localhost:8080/"
        },
        "outputId": "524e5b6b-03c8-428e-ae3f-2c6316aa6764"
      },
      "execution_count": null,
      "outputs": [
        {
          "output_type": "stream",
          "name": "stdout",
          "text": [
            "FoldingFolding 1 with [1]\n",
            "Partial result is 2\n",
            " 1 with [1, 1, 1]\n",
            "Folding 1 with [1, 1]\n",
            "Folding 1 with [1]\n",
            "Partial result is 2\n",
            "Partial result is 3\n",
            "Partial result is 4\n",
            "Folding 2 with [4]\n",
            "Partial result is 6\n",
            "FINAL RESULT → [('Red', 1), ('Blue', 1), ('Green', 6), ('Yellow', 1), ('Black', 1), ('White', 1), ('Brown', 1), ('Orange', 1), ('Purple', 1), ('Pink', 1), ('Gray', 1)]\n"
          ]
        }
      ]
    },
    {
      "cell_type": "markdown",
      "source": [
        "# Next Step: parallel Map-Reduce in Hadoop"
      ],
      "metadata": {
        "id": "ObAmuejDOVS9"
      }
    },
    {
      "cell_type": "markdown",
      "source": [
        "```\n",
        "Input Data\n",
        "   │\n",
        "   ▼\n",
        "Split into Blocks (Splits)\n",
        "   │\n",
        "   ▼\n",
        "+------------+   +------------+\n",
        "|  Mapper 1  |   |  Mapper 2  |\n",
        "| (key,1)... |   | (key,1)... |\n",
        "+------------+   +------------+\n",
        "   │                  │\n",
        "   └─────── Shuffle ──┘\n",
        "           │\n",
        "           ▼\n",
        "   Partition by Key\n",
        "   e.g.  Reducer 1 ← all \"Green\"\n",
        "         Reducer 2 ← all \"Blue\"\n",
        "         Reducer 3 ← all \"Red\"\n",
        "           │\n",
        "           ▼\n",
        "       Reduce Step\n",
        "           │\n",
        "           ▼\n",
        "     Final Results\n",
        "\n",
        "     (KI-generated flow-chart)\n",
        "```\n"
      ],
      "metadata": {
        "id": "Mk1GHgkgOLWV"
      }
    },
    {
      "cell_type": "markdown",
      "source": [],
      "metadata": {
        "id": "IOjWsGCTOayN"
      }
    }
  ]
}