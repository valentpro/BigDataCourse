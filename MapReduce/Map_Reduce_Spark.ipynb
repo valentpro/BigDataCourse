{
 "cells": [
  {
   "cell_type": "code",
   "execution_count": 1,
   "id": "773ad7c0-202f-42e8-b5d6-deed4f73422f",
   "metadata": {},
   "outputs": [],
   "source": [
    "import os\n",
    "os.environ[\"PYSPARK_PYTHON\"] = r\"C:\\Tools\\Python\\python.exe\"        # Pfad zu deinem Python\n",
    "os.environ[\"PYSPARK_DRIVER_PYTHON\"] = r\"C:\\Tools\\Python\\python.exe\""
   ]
  },
  {
   "cell_type": "code",
   "execution_count": 2,
   "id": "2d6a68dc-05e3-40f8-adb9-61255e0d6c9f",
   "metadata": {},
   "outputs": [
    {
     "name": "stdout",
     "output_type": "stream",
     "text": [
      "3.5.1\n"
     ]
    }
   ],
   "source": [
    "import pyspark\n",
    "print(pyspark.__version__)"
   ]
  },
  {
   "cell_type": "code",
   "execution_count": 3,
   "id": "da637be3-de5f-4d40-873f-87bb8688a279",
   "metadata": {},
   "outputs": [],
   "source": [
    "from pyspark.sql import SparkSession\n",
    "\n",
    "# Start Spark\n",
    "spark = SparkSession.builder \\\n",
    "    .appName(\"MapReduceWordCount\") \\\n",
    "    .master(\"local[*]\") \\\n",
    "    .config(\"spark.ui.port\", \"4040\") \\\n",
    "    .getOrCreate()\n",
    "\n",
    "sc = spark.sparkContext\n",
    "sc.setLogLevel(\"INFO\")  # set to INFO to see stages in Spark UI\n"
   ]
  },
  {
   "cell_type": "code",
   "execution_count": 10,
   "id": "575dd07c-5881-4069-84c2-b3ff6a7a2e53",
   "metadata": {},
   "outputs": [],
   "source": [
    "data = [\n",
    "    \"Hello world hello\",\n",
    "    \"This is a MapReduce example\"\n",
    "]\n",
    "\n",
    "# Parallelize data into an RDD\n",
    "#rdd = sc.parallelize(data, 2)  # 2 partitions\n",
    "\n",
    "# Lies eine Textdatei ein (Pfad anpassen!)\n",
    "rdd = sc.textFile(\"C:/Data/Der_kleine_Hobbit.txt\", minPartitions=4)\n"
   ]
  },
  {
   "cell_type": "code",
   "execution_count": 11,
   "id": "47ea3a1e-524d-47ae-aace-37088faa171b",
   "metadata": {},
   "outputs": [],
   "source": [
    "words_rdd = rdd.flatMap(lambda line: line.split())  # flatten all words"
   ]
  },
  {
   "cell_type": "code",
   "execution_count": 12,
   "id": "e0b7b8f9-28dd-47c1-b9d1-199f759217df",
   "metadata": {},
   "outputs": [],
   "source": [
    "pairs_rdd = words_rdd.map(lambda word: (word.lower(), 1))\n"
   ]
  },
  {
   "cell_type": "code",
   "execution_count": 13,
   "id": "1ccef287-aa43-4f01-a1e7-ebad3232daae",
   "metadata": {},
   "outputs": [],
   "source": [
    "word_counts = pairs_rdd.reduceByKey(lambda a, b: a + b)\n"
   ]
  },
  {
   "cell_type": "code",
   "execution_count": 14,
   "id": "1ebcd86b-8d65-4df3-9d81-c03f3215e82b",
   "metadata": {
    "scrolled": true
   },
   "outputs": [
    {
     "name": "stdout",
     "output_type": "stream",
     "text": [
      "Word counts:\n",
      "gesellschaft: 31\n",
      "und: 4159\n",
      "ein: 922\n",
      "fliegen: 6\n",
      "unverzollt: 2\n",
      "warmes: 3\n",
      "tiefe: 13\n",
      "zu: 1163\n",
      "hause: 14\n",
      "dieb: 7\n",
      "bersten: 2\n",
      "zurück: 38\n",
      "einer: 221\n",
      "höhle: 23\n",
      "da: 241\n",
      "nassen: 3\n",
      "von: 720\n",
      "moder: 1\n",
      "roch.: 1\n",
      "trockenen: 3\n",
      "mitte: 13\n",
      "saß: 35\n",
      "führte: 25\n",
      "röhrenförmig: 1\n",
      "tunnel: 12\n",
      "boden: 27\n",
      "ausgelegt,: 1\n",
      "feinster: 1\n",
      "massen: 6\n",
      "hüte: 1\n",
      "besucher: 3\n",
      "sehr: 199\n",
      "meilen: 17\n",
      "schlechthin: 2\n",
      "seite: 44\n",
      "dann: 247\n",
      "speisekammern: 1\n",
      "masse: 4\n",
      "(ganze: 1\n",
      "standen: 41\n",
      "ausschließlich: 3\n",
      "unterbringung: 2\n",
      "zur: 85\n",
      "korridor.: 1\n",
      "übrigens: 9\n",
      "(wenn: 9\n",
      "hatten: 143\n",
      "garten: 4\n",
      "wiesen,: 1\n",
      "zum: 188\n"
     ]
    }
   ],
   "source": [
    "result = word_counts.collect()\n",
    "print(\"Word counts:\")\n",
    "for word, count in result[:50]:\n",
    "    print(f\"{word}: {count}\")\n"
   ]
  },
  {
   "cell_type": "code",
   "execution_count": 15,
   "id": "2ba98cb2-3919-4622-bafb-27c3bbeb8f4e",
   "metadata": {},
   "outputs": [
    {
     "name": "stdout",
     "output_type": "stream",
     "text": [
      "Top 50 Word counts:\n",
      "und: 4159\n",
      "die: 2404\n",
      "der: 1957\n",
      "er: 1890\n",
      "sie: 1594\n",
      "den: 1364\n",
      "in: 1300\n",
      "zu: 1163\n",
      "es: 1124\n",
      "das: 1033\n",
      "nicht: 927\n",
      "ein: 922\n",
      "sich: 835\n",
      "auf: 782\n",
      "war: 727\n",
      "von: 720\n",
      "ich: 679\n",
      "aber: 675\n",
      "mit: 640\n",
      "als: 599\n",
      "daß: 583\n",
      "dem: 578\n",
      "ihr: 539\n",
      "bilbo: 525\n",
      "so: 492\n",
      "wie: 480\n",
      "noch: 474\n",
      "eine: 460\n",
      "an: 430\n",
      "sagte: 384\n",
      "ist: 368\n",
      "des: 357\n",
      "wenn: 353\n",
      "einen: 344\n",
      "wir: 337\n",
      "auch: 337\n",
      "aus: 329\n",
      "im: 327\n",
      "-: 315\n",
      "ihn: 308\n",
      "hatte: 303\n",
      "über: 282\n",
      "für: 279\n",
      "was: 276\n",
      "waren: 268\n",
      "oder: 261\n",
      "einem: 256\n",
      "nach: 256\n",
      "ihm: 255\n",
      "dann: 247\n"
     ]
    }
   ],
   "source": [
    "# sortByKey geht nur nach Key, deshalb sortBy mit count als Schlüssel\n",
    "sorted_rdd = word_counts.sortBy(lambda x: -x[1])\n",
    "\n",
    "top50 = sorted_rdd.take(50)\n",
    "\n",
    "print(\"Top 50 Word counts:\")\n",
    "for word, count in top50:\n",
    "    print(f\"{word}: {count}\")"
   ]
  },
  {
   "cell_type": "code",
   "execution_count": null,
   "id": "1a75b839-da60-43d0-82bb-68e001ede3a0",
   "metadata": {},
   "outputs": [],
   "source": []
  },
  {
   "cell_type": "code",
   "execution_count": null,
   "id": "f2614b6e-bf4f-4ff6-aafe-657b1514aa3c",
   "metadata": {},
   "outputs": [],
   "source": []
  }
 ],
 "metadata": {
  "kernelspec": {
   "display_name": "Python 3 (ipykernel)",
   "language": "python",
   "name": "python3"
  },
  "language_info": {
   "codemirror_mode": {
    "name": "ipython",
    "version": 3
   },
   "file_extension": ".py",
   "mimetype": "text/x-python",
   "name": "python",
   "nbconvert_exporter": "python",
   "pygments_lexer": "ipython3",
   "version": "3.11.7"
  }
 },
 "nbformat": 4,
 "nbformat_minor": 5
}
