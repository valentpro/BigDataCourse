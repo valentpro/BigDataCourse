{
 "cells": [
  {
   "cell_type": "code",
   "execution_count": 1,
   "id": "a31cef85-b82d-4c1a-9937-3d1bbc4aeb0d",
   "metadata": {},
   "outputs": [],
   "source": [
    "from functools import reduce"
   ]
  },
  {
   "cell_type": "code",
   "execution_count": 45,
   "id": "69793aa4-08ff-483b-9ed4-61075ec0d6c6",
   "metadata": {},
   "outputs": [],
   "source": [
    "def foldl(f, data):\n",
    "    if len(data) == 0:\n",
    "        raise TypeError(\"foldl() of empty sequence with no initial value\")\n",
    "    elif len(data) == 1:\n",
    "        return data[0]\n",
    "    else:\n",
    "        head = data[0]\n",
    "        tail = data[1:]\n",
    "        print (\"Folding\", head, \"with\", tail)\n",
    "        partial_result = f(head, tail[0])\n",
    "        print (\"Partial result is\", partial_result)\n",
    "        return foldl(f, [partial_result] + tail[1:])"
   ]
  },
  {
   "cell_type": "code",
   "execution_count": 41,
   "id": "5f2a63af-704a-4508-b4c6-9ad4999c80bc",
   "metadata": {},
   "outputs": [],
   "source": [
    "colorlist = ['Red', 'Blue', 'Green', 'Green', 'Green', 'Green', 'Green', 'Green',\n",
    " 'Yellow', 'Black', 'White', 'Brown', 'Orange', 'Purple', 'Pink', 'Gray',\n",
    " 'Cyan', 'Magenta', 'Silver', 'Gold', 'Indigo', 'Violet', 'Teal', 'Blue',\n",
    " 'Blue', 'Blue', 'Blue', 'Blue', 'Blue', 'Blue', 'Maroon', 'Navy', 'Blue',\n",
    " 'Aqua', 'Beige', 'Coral', 'Coral', 'Coral', 'Coral', 'Coral', 'Mint',\n",
    " 'Olive', 'Lime', 'Turquoise', 'Burgundy', 'Crimson', 'Amber', 'Amber',\n",
    " 'Amber']"
   ]
  },
  {
   "cell_type": "code",
   "execution_count": 51,
   "id": "7a4f551b-3a8e-4643-ad90-5a64a69073be",
   "metadata": {},
   "outputs": [],
   "source": [
    "colorlist = ['Red', 'Blue', 'Green', 'Green', 'Green']"
   ]
  },
  {
   "cell_type": "code",
   "execution_count": 42,
   "id": "4e0513fc-92fd-4319-9cf1-9ac82d727d23",
   "metadata": {},
   "outputs": [
    {
     "name": "stdout",
     "output_type": "stream",
     "text": [
      "MAP → [('Red', 1), ('Blue', 1), ('Green', 1), ('Green', 1), ('Green', 1), ('Green', 1), ('Green', 1), ('Green', 1), ('Yellow', 1), ('Black', 1), ('White', 1), ('Brown', 1), ('Orange', 1), ('Purple', 1), ('Pink', 1), ('Gray', 1), ('Cyan', 1), ('Magenta', 1), ('Silver', 1), ('Gold', 1), ('Indigo', 1), ('Violet', 1), ('Teal', 1), ('Blue', 1), ('Blue', 1), ('Blue', 1), ('Blue', 1), ('Blue', 1), ('Blue', 1), ('Blue', 1), ('Maroon', 1), ('Navy', 1), ('Blue', 1), ('Aqua', 1), ('Beige', 1), ('Coral', 1), ('Coral', 1), ('Coral', 1), ('Coral', 1), ('Coral', 1), ('Mint', 1), ('Olive', 1), ('Lime', 1), ('Turquoise', 1), ('Burgundy', 1), ('Crimson', 1), ('Amber', 1), ('Amber', 1), ('Amber', 1)]\n"
     ]
    }
   ],
   "source": [
    "# ------------------------------\n",
    "# MAP-PHASE\n",
    "# Jede Eingabe (z.B. ein Wort) wird in ein (key, value)-Paar umgewandelt\n",
    "mapped = list(map(lambda word: (word, 1), colorlist))\n",
    "print(\"MAP →\", mapped)\n"
   ]
  },
  {
   "cell_type": "code",
   "execution_count": 43,
   "id": "2c971cff-faba-4e34-8c53-c8ef12fbd5da",
   "metadata": {},
   "outputs": [
    {
     "name": "stdout",
     "output_type": "stream",
     "text": [
      "GROUP → {'Red': [1], 'Blue': [1, 1, 1, 1, 1, 1, 1, 1, 1], 'Green': [1, 1, 1, 1, 1, 1], 'Yellow': [1], 'Black': [1], 'White': [1], 'Brown': [1], 'Orange': [1], 'Purple': [1], 'Pink': [1], 'Gray': [1], 'Cyan': [1], 'Magenta': [1], 'Silver': [1], 'Gold': [1], 'Indigo': [1], 'Violet': [1], 'Teal': [1], 'Maroon': [1], 'Navy': [1], 'Aqua': [1], 'Beige': [1], 'Coral': [1, 1, 1, 1, 1], 'Mint': [1], 'Olive': [1], 'Lime': [1], 'Turquoise': [1], 'Burgundy': [1], 'Crimson': [1], 'Amber': [1, 1, 1]}\n"
     ]
    }
   ],
   "source": [
    "# ------------------------------\n",
    "# GROUP (SHUFFLE)-PHASE\n",
    "# Alle Werte werden nach Schlüssel gruppiert\n",
    "def groupByKey(data):\n",
    "    result = {}\n",
    "    for key, value in data:\n",
    "        if key in result:\n",
    "            result[key].append(value)\n",
    "        else:\n",
    "            result[key] = [value]\n",
    "    return result\n",
    "\n",
    "grouped = groupByKey(mapped)\n",
    "print(\"GROUP →\", grouped)\n"
   ]
  },
  {
   "cell_type": "code",
   "execution_count": 44,
   "id": "85349b83-bc38-40a0-a046-2fe554cc0bd6",
   "metadata": {},
   "outputs": [
    {
     "name": "stdout",
     "output_type": "stream",
     "text": [
      "Folding 1 with [1, 1, 1, 1, 1, 1, 1, 1]\n",
      "Partial result is 2\n",
      "Folding 2 with [1, 1, 1, 1, 1, 1, 1]\n",
      "Partial result is 3\n",
      "Folding 3 with [1, 1, 1, 1, 1, 1]\n",
      "Partial result is 4\n",
      "Folding 4 with [1, 1, 1, 1, 1]\n",
      "Partial result is 5\n",
      "Folding 5 with [1, 1, 1, 1]\n",
      "Partial result is 6\n",
      "Folding 6 with [1, 1, 1]\n",
      "Partial result is 7\n",
      "Folding 7 with [1, 1]\n",
      "Partial result is 8\n",
      "Folding 8 with [1]\n",
      "Partial result is 9\n",
      "Folding 1 with [1, 1, 1, 1, 1]\n",
      "Partial result is 2\n",
      "Folding 2 with [1, 1, 1, 1]\n",
      "Partial result is 3\n",
      "Folding 3 with [1, 1, 1]\n",
      "Partial result is 4\n",
      "Folding 4 with [1, 1]\n",
      "Partial result is 5\n",
      "Folding 5 with [1]\n",
      "Partial result is 6\n",
      "Folding 1 with [1, 1, 1, 1]\n",
      "Partial result is 2\n",
      "Folding 2 with [1, 1, 1]\n",
      "Partial result is 3\n",
      "Folding 3 with [1, 1]\n",
      "Partial result is 4\n",
      "Folding 4 with [1]\n",
      "Partial result is 5\n",
      "Folding 1 with [1, 1]\n",
      "Partial result is 2\n",
      "Folding 2 with [1]\n",
      "Partial result is 3\n",
      "REDUCE → [('Red', 1), ('Blue', 9), ('Green', 6), ('Yellow', 1), ('Black', 1), ('White', 1), ('Brown', 1), ('Orange', 1), ('Purple', 1), ('Pink', 1), ('Gray', 1), ('Cyan', 1), ('Magenta', 1), ('Silver', 1), ('Gold', 1), ('Indigo', 1), ('Violet', 1), ('Teal', 1), ('Maroon', 1), ('Navy', 1), ('Aqua', 1), ('Beige', 1), ('Coral', 5), ('Mint', 1), ('Olive', 1), ('Lime', 1), ('Turquoise', 1), ('Burgundy', 1), ('Crimson', 1), ('Amber', 3)]\n"
     ]
    }
   ],
   "source": [
    "# ------------------------------\n",
    "# REDUCE-PHASE\n",
    "# Werte pro Schlüssel mit einer Funktion f reduzieren\n",
    "def reduceByKey(f, data):\n",
    "    key_values = groupByKey(data)\n",
    "    return list(map(lambda key: (key, foldl(f, key_values[key])), key_values))\n",
    "\n",
    "reduced = reduceByKey(lambda x, y: x + y, mapped)\n",
    "print(\"REDUCE →\", reduced)"
   ]
  },
  {
   "cell_type": "code",
   "execution_count": null,
   "id": "ddc3a941-259a-491f-9c4c-52431ce77b29",
   "metadata": {},
   "outputs": [],
   "source": []
  }
 ],
 "metadata": {
  "kernelspec": {
   "display_name": "mapred",
   "language": "python",
   "name": "mapred"
  },
  "language_info": {
   "codemirror_mode": {
    "name": "ipython",
    "version": 3
   },
   "file_extension": ".py",
   "mimetype": "text/x-python",
   "name": "python",
   "nbconvert_exporter": "python",
   "pygments_lexer": "ipython3",
   "version": "3.11.7"
  }
 },
 "nbformat": 4,
 "nbformat_minor": 5
}
