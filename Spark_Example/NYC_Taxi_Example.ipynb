{
 "cells": [
  {
   "cell_type": "markdown",
   "id": "efd02910",
   "metadata": {},
   "source": [
    "# NYC Taxi Example — Educational Walkthrough\n",
    "\n",
    "## Purpose\n",
    "This notebook demonstrates how to load, explore, and analyze the NYC Taxi dataset using Apache Spark (PySpark). The goal is educational: to explain each step, the reasoning, common pitfalls, and for each step to have a detiled look into Spark.UI to better understand the general processes of Spark.\n",
    "\n",
    "## What you'll learn\n",
    "- understand how Apache Spark Architecture works\n",
    "- How to set up a Spark session for local development.\n",
    "- Basic exploratory data analysis (aggregations, distributions, time-series).\n",
    "- Simple performance tips for Spark on a laptop.\n",
    "- Common errors and how to debug them.\n",
    "\n",
    "## Prerequisites\n",
    "- Python 3.7+ and PySpark installed, or a working Spark distribution available.\n",
    "- Enough RAM (at least a few GB) for local testing. For large files, prefer Parquet and sample data.\n",
    "- The notebook expects the taxi data files to be reachable by the local filesystem or HDFS. Adjust paths accordingly.\n",
    "\n",
    "## Dataset summary\n",
    "This example uses the NYC Taxi trip dataset. Typical columns include:\n",
    "- tpep_pickup_datetime, tpep_dropoff_datetime (timestamps)\n",
    "- passenger_count (integer)\n",
    "- trip_distance (float)\n",
    "- PULocationID, DOLocationID (integers referring to taxi zone IDs)\n",
    "- fare_amount, tip_amount, total_amount (floats)\n",
    "\n",
    "If your file is CSV, prefer reading with an explicit schema to avoid costly type inference.\n",
    "\n",
    "## How this notebook is organized\n",
    "1. Environment and Spark session setup (create SparkSession, set configs).\n",
    "2. Data schema & loading (CSV/Parquet, sample vs full data).\n",
    "3. Data cleaning and type casting (timestamp parsing, null handling).\n",
    "4. Exploratory analysis (counts, top pickup/dropoff zones, trip distance distribution).\n",
    "5. Time-based analysis (hourly/daily trends).\n",
    "6. Example aggregation queries (revenue by zone, average tip percent).\n",
    "7. Small exercises for practice.\n",
    "\n",
    "## Walkthrough notes (what to look for in the code cells)\n",
    "- SparkSession: look for `SparkSession.builder` and `appName` configuration. If running locally, `master(\"local[*]\")` is typically used.\n",
    "- Reading CSV: prefer `spark.read.csv(path, schema=SCHEMA, header=True)` with `schema` defined as `StructType(...)` to avoid `inferSchema=True` overhead.\n",
    "- Timestamps: convert pickup/dropoff string columns to Spark `TimestampType` using `to_timestamp()` or `unix_timestamp()` then cast.\n",
    "- Nulls and filters: filter out rows with impossible values (e.g., trip_distance <= 0, fare_amount < 0) and handle missing zones.\n",
    "- Caching: cache intermediate DataFrames used multiple times (e.g., cleaned DF) to avoid repeated I/O.\n",
    "- Partitioning & file format: for repeated analysis, store cleaned data as Parquet and partition by year/month for faster reads.\n",
    "\n",
    "## Expected outputs and checks\n",
    "- Schema should show timestamps and numeric types for fare/trip distance.\n",
    "- Typical aggregate: top 10 pickup zones by trip count.\n",
    "- Time-series plots (if rendered) should show daily/weekly patterns; morning and evening peaks are common.\n",
    "\n",
    "## Common pitfalls & debugging tips\n",
    "- Memory errors: reduce data by sampling (`df.sample(0.01)`) or increase local executor memory via Spark conf.\n",
    "- Slow CSV reads: switch to Parquet or provide explicit schema.\n",
    "- Timezone issues: be aware of timezone in timestamps; dataset timestamps are usually in local NY time.\n",
    "- Missing zone ID mapping: if mapping zone IDs to names, ensure the mapping file is the correct version for your taxi year.\n",
    "\n",
    "## Exercises (try these after running the notebook)\n",
    "1. Compute the average tip percentage by pickup hour and plot it. What hours have the highest tip rates?\n",
    "2. Find the top 5 origin-destination pairs by total revenue.\n",
    "3. Create a cleaned Parquet dataset partitioned by year and month, then re-run the top pickup zones query against the partitioned dataset and compare read times.\n",
    "\n",
    "## Further reading & references\n",
    "- Official Apache Spark docs: https://spark.apache.org/docs/latest/\n",
    "- NYC Taxi & Limousine Commission (TLC) Trip Record Data: https://www1.nyc.gov/site/tlc/about/tlc-trip-record-data.page\n",
    "\n",
    "---\n",
    "\n",
    "Continue through the notebook cells below. Each code cell includes inline comments; read them slowly and execute cells in order. If you'd like, I can also:\n",
    "- Insert explanatory Markdown cells before each major code section.\n",
    "- Convert key code cells to smaller step-by-step cells with assertions and unit-tests.\n",
    "\n",
    "Tell me if you want the notebook annotated further (for example, add visualizations with matplotlib/plotly, or convert all data reads to explicit-schema Parquet reads)."
   ]
  },
  {
   "cell_type": "markdown",
   "id": "cad45acc-34b2-4c45-ab44-5cc0426035b9",
   "metadata": {},
   "source": [
    "## Create a Spark Session:\n",
    "`.config(\"spark.ui.port\", \"4040\")` creates a Spark UI under Port 4040"
   ]
  },
  {
   "cell_type": "markdown",
   "id": "7f04eae9",
   "metadata": {},
   "source": [
    "## Section: Environment & Spark session setup\n",
    "\n",
    "This cell creates the SparkSession and sets runtime configuration for local execution. Run this first to initialize Spark. If you run into memory issues, decrease local cores or increase executor memory via Spark configs."
   ]
  },
  {
   "cell_type": "code",
   "execution_count": 1,
   "id": "63685aee-729f-4022-99ec-36781ce19dc0",
   "metadata": {},
   "outputs": [],
   "source": [
    "from pyspark.sql import SparkSession\n",
    "\n",
    "spark = SparkSession.builder \\\n",
    "    .appName(\"NYC Taxi Insights\") \\\n",
    "    .master(\"local[*]\") \\\n",
    "    .config(\"spark.ui.port\", \"4040\") \\\n",
    "    .getOrCreate()"
   ]
  },
  {
   "cell_type": "markdown",
   "id": "f3ead781-7cf1-4d9f-a83d-93de928c23ed",
   "metadata": {},
   "source": [
    "### Reduce number of partitions for low-level PCs"
   ]
  },
  {
   "cell_type": "markdown",
   "id": "ba4b4ebf",
   "metadata": {},
   "source": [
    "## Section: Data loading\n",
    "\n",
    "This cell reads the taxi dataset from CSV or Parquet. Prefer passing an explicit schema when reading CSV to avoid slow type inference. Adjust file paths to your local dataset."
   ]
  },
  {
   "cell_type": "code",
   "execution_count": 2,
   "id": "492fa3c5-2064-4251-93bd-1b640261a5c4",
   "metadata": {},
   "outputs": [
    {
     "data": {
      "text/plain": [
       "'200'"
      ]
     },
     "execution_count": 2,
     "metadata": {},
     "output_type": "execute_result"
    }
   ],
   "source": [
    "# Standardwert ist 200\n",
    "spark.conf.get(\"spark.sql.shuffle.partitions\")\n",
    "# -> '200'"
   ]
  },
  {
   "cell_type": "markdown",
   "id": "3e1f1b8b",
   "metadata": {},
   "source": [
    "## Section: Data cleaning & type casting\n",
    "\n",
    "This section parses timestamps, casts types, and filters out invalid rows (e.g., negative fares or zero-distance trips). These steps make downstream aggregations reliable."
   ]
  },
  {
   "cell_type": "code",
   "execution_count": 3,
   "id": "c666621c-b67e-45f3-a44f-206898d77cd6",
   "metadata": {},
   "outputs": [],
   "source": [
    "# Anpassung\n",
    "spark.conf.set(\"spark.sql.shuffle.partitions\", \"20\")"
   ]
  },
  {
   "cell_type": "markdown",
   "id": "a973effd-6921-43ca-9657-c2e70fe4e5aa",
   "metadata": {},
   "source": [
    "### load data"
   ]
  },
  {
   "cell_type": "markdown",
   "id": "774e14ab",
   "metadata": {},
   "source": [
    "## Section: Initial exploration & simple queries\n",
    "\n",
    "Run basic counts and group-bys to get a feel for the data shape: top pickup zones, distribution of trip distances, and passenger counts."
   ]
  },
  {
   "cell_type": "code",
   "execution_count": 4,
   "id": "95f2cd3b-cf22-4ee0-8218-c123cf0017c4",
   "metadata": {},
   "outputs": [
    {
     "name": "stdout",
     "output_type": "stream",
     "text": [
      "root\n",
      " |-- VendorID: integer (nullable = true)\n",
      " |-- tpep_pickup_datetime: timestamp_ntz (nullable = true)\n",
      " |-- tpep_dropoff_datetime: timestamp_ntz (nullable = true)\n",
      " |-- passenger_count: long (nullable = true)\n",
      " |-- trip_distance: double (nullable = true)\n",
      " |-- RatecodeID: long (nullable = true)\n",
      " |-- store_and_fwd_flag: string (nullable = true)\n",
      " |-- PULocationID: integer (nullable = true)\n",
      " |-- DOLocationID: integer (nullable = true)\n",
      " |-- payment_type: long (nullable = true)\n",
      " |-- fare_amount: double (nullable = true)\n",
      " |-- extra: double (nullable = true)\n",
      " |-- mta_tax: double (nullable = true)\n",
      " |-- tip_amount: double (nullable = true)\n",
      " |-- tolls_amount: double (nullable = true)\n",
      " |-- improvement_surcharge: double (nullable = true)\n",
      " |-- total_amount: double (nullable = true)\n",
      " |-- congestion_surcharge: double (nullable = true)\n",
      " |-- Airport_fee: double (nullable = true)\n",
      " |-- cbd_congestion_fee: double (nullable = true)\n",
      "\n",
      "+--------+--------------------+---------------------+---------------+-------------+----------+------------------+------------+------------+------------+-----------+-----+-------+----------+------------+---------------------+------------+--------------------+-----------+------------------+\n",
      "|VendorID|tpep_pickup_datetime|tpep_dropoff_datetime|passenger_count|trip_distance|RatecodeID|store_and_fwd_flag|PULocationID|DOLocationID|payment_type|fare_amount|extra|mta_tax|tip_amount|tolls_amount|improvement_surcharge|total_amount|congestion_surcharge|Airport_fee|cbd_congestion_fee|\n",
      "+--------+--------------------+---------------------+---------------+-------------+----------+------------------+------------+------------+------------+-----------+-----+-------+----------+------------+---------------------+------------+--------------------+-----------+------------------+\n",
      "|       1| 2025-01-01 00:18:38|  2025-01-01 00:26:59|              1|          1.6|         1|                 N|         229|         237|           1|       10.0|  3.5|    0.5|       3.0|         0.0|                  1.0|        18.0|                 2.5|        0.0|               0.0|\n",
      "|       1| 2025-01-01 00:32:40|  2025-01-01 00:35:13|              1|          0.5|         1|                 N|         236|         237|           1|        5.1|  3.5|    0.5|      2.02|         0.0|                  1.0|       12.12|                 2.5|        0.0|               0.0|\n",
      "|       1| 2025-01-01 00:44:04|  2025-01-01 00:46:01|              1|          0.6|         1|                 N|         141|         141|           1|        5.1|  3.5|    0.5|       2.0|         0.0|                  1.0|        12.1|                 2.5|        0.0|               0.0|\n",
      "|       2| 2025-01-01 00:14:27|  2025-01-01 00:20:01|              3|         0.52|         1|                 N|         244|         244|           2|        7.2|  1.0|    0.5|       0.0|         0.0|                  1.0|         9.7|                 0.0|        0.0|               0.0|\n",
      "|       2| 2025-01-01 00:21:34|  2025-01-01 00:25:06|              3|         0.66|         1|                 N|         244|         116|           2|        5.8|  1.0|    0.5|       0.0|         0.0|                  1.0|         8.3|                 0.0|        0.0|               0.0|\n",
      "+--------+--------------------+---------------------+---------------+-------------+----------+------------------+------------+------------+------------+-----------+-----+-------+----------+------------+---------------------+------------+--------------------+-----------+------------------+\n",
      "only showing top 5 rows\n",
      "\n"
     ]
    }
   ],
   "source": [
    "df = spark.read.parquet(\"C:/Data/NYC_TLC_Trip_Records/yellow_tripdata_2025-01.parquet\")\n",
    "df.printSchema()\n",
    "df.show(5)"
   ]
  },
  {
   "cell_type": "markdown",
   "id": "377e470e",
   "metadata": {},
   "source": [
    "## Section: Visualization\n",
    "\n",
    "This section converts Spark DataFrames to Pandas for plotting small samples. Use plotting libraries (matplotlib/plotly) for time-series and distribution visualizations. Avoid converting very large DataFrames to Pandas."
   ]
  },
  {
   "cell_type": "code",
   "execution_count": 5,
   "id": "2636eee3-331a-4110-a5f6-f787f7ce3157",
   "metadata": {},
   "outputs": [
    {
     "name": "stdout",
     "output_type": "stream",
     "text": [
      "yellow_tripdata_2025-01.parquet               56.42 MB\n",
      "yellow_tripdata_2025-02.parquet               57.55 MB\n",
      "yellow_tripdata_2025-03.parquet               66.72 MB\n",
      "181 MB\n"
     ]
    }
   ],
   "source": [
    "import os\n",
    "\n",
    "total_size = 0\n",
    "directory = r\"C:\\Data\\NYC_TLC_Trip_Records\"\n",
    "\n",
    "for filename in os.listdir(directory):\n",
    "    filepath = os.path.join(directory, filename)\n",
    "    if os.path.isfile(filepath):\n",
    "        size_mb = os.path.getsize(filepath) / (1024 * 1024)  # in MB\n",
    "        print(f\"{filename:40} {size_mb:10.2f} MB\")\n",
    "        total_size += size_mb\n",
    "\n",
    "print(round(total_size),\"MB\")"
   ]
  },
  {
   "cell_type": "markdown",
   "id": "336401a7",
   "metadata": {},
   "source": [
    "## Section: Aggregations & business metrics\n",
    "\n",
    "Compute revenue, average fare, and tip percent by zone/hour. These queries demonstrate common business metrics and show how to use window functions and joins in Spark."
   ]
  },
  {
   "cell_type": "code",
   "execution_count": null,
   "id": "29c24ead-f741-44a3-8a7e-1efc6d9e06a0",
   "metadata": {},
   "outputs": [],
   "source": []
  },
  {
   "cell_type": "markdown",
   "id": "0a616686",
   "metadata": {},
   "source": [
    "## Section: Save / Export cleaned data\n",
    "\n",
    "Save cleaned and partitioned data to Parquet for repeated analysis. Partition by year/month to speed up queries that filter by time ranges."
   ]
  },
  {
   "cell_type": "code",
   "execution_count": 6,
   "id": "07b132a8-00d8-4a10-9877-8f60cd0cf806",
   "metadata": {},
   "outputs": [
    {
     "name": "stdout",
     "output_type": "stream",
     "text": [
      "🚖 Gesamtfahrten: 3,475,226\n",
      "📏 Durchschnittliche Distanz: 5.86 miles\n",
      "💵 Durchschnittlicher Fahrpreis: $17.08\n"
     ]
    }
   ],
   "source": [
    "from pyspark.sql.functions import col, count, avg, max, min\n",
    "\n",
    "# Anzahl der Fahrten\n",
    "total_trips = df.count()\n",
    "\n",
    "# Durchschnittliche Distanz und Dauer\n",
    "avg_distance = df.agg(avg(\"trip_distance\")).first()[0]\n",
    "avg_fare = df.agg(avg(\"fare_amount\")).first()[0]\n",
    "\n",
    "print(f\"🚖 Gesamtfahrten: {total_trips:,}\")\n",
    "print(f\"📏 Durchschnittliche Distanz: {avg_distance:.2f} miles\")\n",
    "print(f\"💵 Durchschnittlicher Fahrpreis: ${avg_fare:.2f}\")"
   ]
  },
  {
   "cell_type": "code",
   "execution_count": 7,
   "id": "dde5ab50-9318-4ec9-a131-eed132a2bad3",
   "metadata": {},
   "outputs": [
    {
     "name": "stdout",
     "output_type": "stream",
     "text": [
      "+----+------+\n",
      "|hour| count|\n",
      "+----+------+\n",
      "|   0| 93417|\n",
      "|   1| 64484|\n",
      "|   2| 43929|\n",
      "|   3| 28492|\n",
      "|   4| 20033|\n",
      "|   5| 22551|\n",
      "|   6| 50026|\n",
      "|   7|102581|\n",
      "|   8|141305|\n",
      "|   9|142877|\n",
      "|  10|148316|\n",
      "|  11|160076|\n",
      "|  12|175432|\n",
      "|  13|186144|\n",
      "|  14|202289|\n",
      "|  15|213694|\n",
      "|  16|217051|\n",
      "|  17|253518|\n",
      "|  18|267951|\n",
      "|  19|221055|\n",
      "+----+------+\n",
      "only showing top 20 rows\n",
      "\n"
     ]
    }
   ],
   "source": [
    "from pyspark.sql.functions import hour, dayofweek\n",
    "\n",
    "# Anzahl Fahrten pro Stunde\n",
    "trips_per_hour = df.withColumn(\"hour\", hour(\"tpep_pickup_datetime\")) \\\n",
    "    .groupBy(\"hour\").count().orderBy(\"hour\")\n",
    "trips_per_hour.show()"
   ]
  },
  {
   "cell_type": "code",
   "execution_count": 8,
   "id": "4d3c55bd-354e-4a09-9bf1-2ad793d26651",
   "metadata": {},
   "outputs": [
    {
     "data": {
      "image/png": "[encoded data removed]",
      "text/plain": [
       "<Figure size 1000x500 with 1 Axes>"
      ]
     },
     "metadata": {},
     "output_type": "display_data"
    }
   ],
   "source": [
    "import matplotlib.pyplot as plt\n",
    "\n",
    "# Fahrten pro Stunde\n",
    "pdf = trips_per_hour.toPandas()\n",
    "\n",
    "plt.figure(figsize=(10,5))\n",
    "plt.bar(pdf[\"hour\"], pdf[\"count\"], color=\"steelblue\")\n",
    "plt.xlabel(\"Stunde des Tages\")\n",
    "plt.ylabel(\"Anzahl Fahrten\")\n",
    "plt.title(\"NYC Yellow Taxi: Fahrten pro Stunde\")\n",
    "plt.show()"
   ]
  },
  {
   "cell_type": "code",
   "execution_count": 9,
   "id": "ff1cdb98-7cc4-429b-97db-21a99954b90d",
   "metadata": {},
   "outputs": [
    {
     "name": "stdout",
     "output_type": "stream",
     "text": [
      "+------------+------+\n",
      "|PULocationID| count|\n",
      "+------------+------+\n",
      "|         161|169977|\n",
      "|         237|163703|\n",
      "|         236|155647|\n",
      "|         132|146137|\n",
      "|         230|125829|\n",
      "|         186|119131|\n",
      "|         162|117930|\n",
      "|         142|110585|\n",
      "|         239| 96614|\n",
      "|         163| 95906|\n",
      "+------------+------+\n",
      "only showing top 10 rows\n",
      "\n"
     ]
    }
   ],
   "source": [
    "pickup_counts = df.groupBy(\"PULocationID\").count().orderBy(col(\"count\").desc())\n",
    "pickup_counts.show(10)"
   ]
  },
  {
   "cell_type": "code",
   "execution_count": null,
   "id": "670de12e-d61b-479c-864c-3e20407cef7c",
   "metadata": {},
   "outputs": [],
   "source": []
  }
 ],
 "metadata": {
  "kernelspec": {
   "display_name": "mapred",
   "language": "python",
   "name": "mapred"
  },
  "language_info": {
   "codemirror_mode": {
    "name": "ipython",
    "version": 3
   },
   "file_extension": ".py",
   "mimetype": "text/x-python",
   "name": "python",
   "nbconvert_exporter": "python",
   "pygments_lexer": "ipython3",
   "version": "3.11.7"
  }
 },
 "nbformat": 4,
 "nbformat_minor": 5
}
