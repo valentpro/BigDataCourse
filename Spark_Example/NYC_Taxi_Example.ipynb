{
 "cells": [
  {
   "cell_type": "markdown",
   "id": "cad45acc-34b2-4c45-ab44-5cc0426035b9",
   "metadata": {},
   "source": [
    "## Create a Spark Session:\n",
    "`.config(\"spark.ui.port\", \"4040\")` creates a Spark UI under Port 4040"
   ]
  },
  {
   "cell_type": "code",
   "execution_count": 1,
   "id": "63685aee-729f-4022-99ec-36781ce19dc0",
   "metadata": {},
   "outputs": [],
   "source": [
    "from pyspark.sql import SparkSession\n",
    "\n",
    "spark = SparkSession.builder \\\n",
    "    .appName(\"NYC Taxi Insights\") \\\n",
    "    .master(\"local[*]\") \\\n",
    "    .config(\"spark.ui.port\", \"4040\") \\\n",
    "    .getOrCreate()"
   ]
  },
  {
   "cell_type": "markdown",
   "id": "f3ead781-7cf1-4d9f-a83d-93de928c23ed",
   "metadata": {},
   "source": [
    "### Reduce number of partitions for low-level PCs"
   ]
  },
  {
   "cell_type": "code",
   "execution_count": 2,
   "id": "492fa3c5-2064-4251-93bd-1b640261a5c4",
   "metadata": {},
   "outputs": [
    {
     "data": {
      "text/plain": [
       "'200'"
      ]
     },
     "execution_count": 2,
     "metadata": {},
     "output_type": "execute_result"
    }
   ],
   "source": [
    "# Standardwert ist 200\n",
    "spark.conf.get(\"spark.sql.shuffle.partitions\")\n",
    "# -> '200'"
   ]
  },
  {
   "cell_type": "code",
   "execution_count": 3,
   "id": "c666621c-b67e-45f3-a44f-206898d77cd6",
   "metadata": {},
   "outputs": [],
   "source": [
    "# Anpassung\n",
    "spark.conf.set(\"spark.sql.shuffle.partitions\", \"20\")"
   ]
  },
  {
   "cell_type": "markdown",
   "id": "a973effd-6921-43ca-9657-c2e70fe4e5aa",
   "metadata": {},
   "source": [
    "### load data"
   ]
  },
  {
   "cell_type": "code",
   "execution_count": 4,
   "id": "95f2cd3b-cf22-4ee0-8218-c123cf0017c4",
   "metadata": {},
   "outputs": [
    {
     "name": "stdout",
     "output_type": "stream",
     "text": [
      "root\n",
      " |-- VendorID: integer (nullable = true)\n",
      " |-- tpep_pickup_datetime: timestamp_ntz (nullable = true)\n",
      " |-- tpep_dropoff_datetime: timestamp_ntz (nullable = true)\n",
      " |-- passenger_count: long (nullable = true)\n",
      " |-- trip_distance: double (nullable = true)\n",
      " |-- RatecodeID: long (nullable = true)\n",
      " |-- store_and_fwd_flag: string (nullable = true)\n",
      " |-- PULocationID: integer (nullable = true)\n",
      " |-- DOLocationID: integer (nullable = true)\n",
      " |-- payment_type: long (nullable = true)\n",
      " |-- fare_amount: double (nullable = true)\n",
      " |-- extra: double (nullable = true)\n",
      " |-- mta_tax: double (nullable = true)\n",
      " |-- tip_amount: double (nullable = true)\n",
      " |-- tolls_amount: double (nullable = true)\n",
      " |-- improvement_surcharge: double (nullable = true)\n",
      " |-- total_amount: double (nullable = true)\n",
      " |-- congestion_surcharge: double (nullable = true)\n",
      " |-- Airport_fee: double (nullable = true)\n",
      " |-- cbd_congestion_fee: double (nullable = true)\n",
      "\n",
      "+--------+--------------------+---------------------+---------------+-------------+----------+------------------+------------+------------+------------+-----------+-----+-------+----------+------------+---------------------+------------+--------------------+-----------+------------------+\n",
      "|VendorID|tpep_pickup_datetime|tpep_dropoff_datetime|passenger_count|trip_distance|RatecodeID|store_and_fwd_flag|PULocationID|DOLocationID|payment_type|fare_amount|extra|mta_tax|tip_amount|tolls_amount|improvement_surcharge|total_amount|congestion_surcharge|Airport_fee|cbd_congestion_fee|\n",
      "+--------+--------------------+---------------------+---------------+-------------+----------+------------------+------------+------------+------------+-----------+-----+-------+----------+------------+---------------------+------------+--------------------+-----------+------------------+\n",
      "|       1| 2025-01-01 00:18:38|  2025-01-01 00:26:59|              1|          1.6|         1|                 N|         229|         237|           1|       10.0|  3.5|    0.5|       3.0|         0.0|                  1.0|        18.0|                 2.5|        0.0|               0.0|\n",
      "|       1| 2025-01-01 00:32:40|  2025-01-01 00:35:13|              1|          0.5|         1|                 N|         236|         237|           1|        5.1|  3.5|    0.5|      2.02|         0.0|                  1.0|       12.12|                 2.5|        0.0|               0.0|\n",
      "|       1| 2025-01-01 00:44:04|  2025-01-01 00:46:01|              1|          0.6|         1|                 N|         141|         141|           1|        5.1|  3.5|    0.5|       2.0|         0.0|                  1.0|        12.1|                 2.5|        0.0|               0.0|\n",
      "|       2| 2025-01-01 00:14:27|  2025-01-01 00:20:01|              3|         0.52|         1|                 N|         244|         244|           2|        7.2|  1.0|    0.5|       0.0|         0.0|                  1.0|         9.7|                 0.0|        0.0|               0.0|\n",
      "|       2| 2025-01-01 00:21:34|  2025-01-01 00:25:06|              3|         0.66|         1|                 N|         244|         116|           2|        5.8|  1.0|    0.5|       0.0|         0.0|                  1.0|         8.3|                 0.0|        0.0|               0.0|\n",
      "+--------+--------------------+---------------------+---------------+-------------+----------+------------------+------------+------------+------------+-----------+-----+-------+----------+------------+---------------------+------------+--------------------+-----------+------------------+\n",
      "only showing top 5 rows\n",
      "\n"
     ]
    }
   ],
   "source": [
    "df = spark.read.parquet(\"C:/Data/NYC_TLC_Trip_Records/yellow_tripdata_2025-01.parquet\")\n",
    "df.printSchema()\n",
    "df.show(5)"
   ]
  },
  {
   "cell_type": "code",
   "execution_count": 5,
   "id": "2636eee3-331a-4110-a5f6-f787f7ce3157",
   "metadata": {},
   "outputs": [
    {
     "name": "stdout",
     "output_type": "stream",
     "text": [
      "yellow_tripdata_2025-01.parquet               56.42 MB\n",
      "yellow_tripdata_2025-02.parquet               57.55 MB\n",
      "yellow_tripdata_2025-03.parquet               66.72 MB\n",
      "181 MB\n"
     ]
    }
   ],
   "source": [
    "import os\n",
    "\n",
    "total_size = 0\n",
    "directory = r\"C:\\Data\\NYC_TLC_Trip_Records\"\n",
    "\n",
    "for filename in os.listdir(directory):\n",
    "    filepath = os.path.join(directory, filename)\n",
    "    if os.path.isfile(filepath):\n",
    "        size_mb = os.path.getsize(filepath) / (1024 * 1024)  # in MB\n",
    "        print(f\"{filename:40} {size_mb:10.2f} MB\")\n",
    "        total_size += size_mb\n",
    "\n",
    "print(round(total_size),\"MB\")"
   ]
  },
  {
   "cell_type": "code",
   "execution_count": null,
   "id": "29c24ead-f741-44a3-8a7e-1efc6d9e06a0",
   "metadata": {},
   "outputs": [],
   "source": []
  },
  {
   "cell_type": "code",
   "execution_count": 6,
   "id": "07b132a8-00d8-4a10-9877-8f60cd0cf806",
   "metadata": {},
   "outputs": [
    {
     "name": "stdout",
     "output_type": "stream",
     "text": [
      "🚖 Gesamtfahrten: 3,475,226\n",
      "📏 Durchschnittliche Distanz: 5.86 miles\n",
      "💵 Durchschnittlicher Fahrpreis: $17.08\n"
     ]
    }
   ],
   "source": [
    "from pyspark.sql.functions import col, count, avg, max, min\n",
    "\n",
    "# Anzahl der Fahrten\n",
    "total_trips = df.count()\n",
    "\n",
    "# Durchschnittliche Distanz und Dauer\n",
    "avg_distance = df.agg(avg(\"trip_distance\")).first()[0]\n",
    "avg_fare = df.agg(avg(\"fare_amount\")).first()[0]\n",
    "\n",
    "print(f\"🚖 Gesamtfahrten: {total_trips:,}\")\n",
    "print(f\"📏 Durchschnittliche Distanz: {avg_distance:.2f} miles\")\n",
    "print(f\"💵 Durchschnittlicher Fahrpreis: ${avg_fare:.2f}\")"
   ]
  },
  {
   "cell_type": "code",
   "execution_count": null,
   "id": "dde5ab50-9318-4ec9-a131-eed132a2bad3",
   "metadata": {},
   "outputs": [],
   "source": [
    "from pyspark.sql.functions import hour, dayofweek\n",
    "\n",
    "# Anzahl Fahrten pro Stunde\n",
    "trips_per_hour = df.withColumn(\"hour\", hour(\"tpep_pickup_datetime\")) \\\n",
    "    .groupBy(\"hour\").count().orderBy(\"hour\")\n",
    "trips_per_hour.show()"
   ]
  },
  {
   "cell_type": "code",
   "execution_count": null,
   "id": "4d3c55bd-354e-4a09-9bf1-2ad793d26651",
   "metadata": {},
   "outputs": [],
   "source": [
    "import matplotlib.pyplot as plt\n",
    "\n",
    "# Fahrten pro Stunde\n",
    "pdf = trips_per_hour.toPandas()\n",
    "\n",
    "plt.figure(figsize=(10,5))\n",
    "plt.bar(pdf[\"hour\"], pdf[\"count\"], color=\"steelblue\")\n",
    "plt.xlabel(\"Stunde des Tages\")\n",
    "plt.ylabel(\"Anzahl Fahrten\")\n",
    "plt.title(\"NYC Yellow Taxi: Fahrten pro Stunde\")\n",
    "plt.show()"
   ]
  },
  {
   "cell_type": "code",
   "execution_count": null,
   "id": "ff1cdb98-7cc4-429b-97db-21a99954b90d",
   "metadata": {},
   "outputs": [],
   "source": [
    "pickup_counts = df.groupBy(\"PULocationID\").count().orderBy(col(\"count\").desc())\n",
    "pickup_counts.show(10)"
   ]
  },
  {
   "cell_type": "code",
   "execution_count": null,
   "id": "670de12e-d61b-479c-864c-3e20407cef7c",
   "metadata": {},
   "outputs": [],
   "source": []
  }
 ],
 "metadata": {
  "kernelspec": {
   "display_name": "mapred",
   "language": "python",
   "name": "mapred"
  },
  "language_info": {
   "codemirror_mode": {
    "name": "ipython",
    "version": 3
   },
   "file_extension": ".py",
   "mimetype": "text/x-python",
   "name": "python",
   "nbconvert_exporter": "python",
   "pygments_lexer": "ipython3",
   "version": "3.11.7"
  }
 },
 "nbformat": 4,
 "nbformat_minor": 5
}
